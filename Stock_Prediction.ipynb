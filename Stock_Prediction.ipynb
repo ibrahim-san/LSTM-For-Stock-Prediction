{
  "nbformat": 4,
  "nbformat_minor": 0,
  "metadata": {
    "colab": {
      "name": "Stock_Prediction.ipynb",
      "provenance": [],
      "collapsed_sections": []
    },
    "kernelspec": {
      "name": "python3",
      "display_name": "Python 3"
    },
    "language_info": {
      "name": "python"
    }
  },
  "cells": [
    {
      "cell_type": "code",
      "source": [
        "! pip install kaggle"
      ],
      "metadata": {
        "colab": {
          "base_uri": "https://localhost:8080/"
        },
        "id": "O9auYRk-HlTI",
        "outputId": "b946d4b4-6b93-4cbf-c439-5ef6c458b98c"
      },
      "execution_count": null,
      "outputs": [
        {
          "output_type": "stream",
          "name": "stdout",
          "text": [
            "Requirement already satisfied: kaggle in /usr/local/lib/python3.7/dist-packages (1.5.12)\n",
            "Requirement already satisfied: requests in /usr/local/lib/python3.7/dist-packages (from kaggle) (2.23.0)\n",
            "Requirement already satisfied: certifi in /usr/local/lib/python3.7/dist-packages (from kaggle) (2021.10.8)\n",
            "Requirement already satisfied: urllib3 in /usr/local/lib/python3.7/dist-packages (from kaggle) (1.24.3)\n",
            "Requirement already satisfied: python-slugify in /usr/local/lib/python3.7/dist-packages (from kaggle) (6.1.1)\n",
            "Requirement already satisfied: tqdm in /usr/local/lib/python3.7/dist-packages (from kaggle) (4.64.0)\n",
            "Requirement already satisfied: python-dateutil in /usr/local/lib/python3.7/dist-packages (from kaggle) (2.8.2)\n",
            "Requirement already satisfied: six>=1.10 in /usr/local/lib/python3.7/dist-packages (from kaggle) (1.15.0)\n",
            "Requirement already satisfied: text-unidecode>=1.3 in /usr/local/lib/python3.7/dist-packages (from python-slugify->kaggle) (1.3)\n",
            "Requirement already satisfied: chardet<4,>=3.0.2 in /usr/local/lib/python3.7/dist-packages (from requests->kaggle) (3.0.4)\n",
            "Requirement already satisfied: idna<3,>=2.5 in /usr/local/lib/python3.7/dist-packages (from requests->kaggle) (2.10)\n"
          ]
        }
      ]
    },
    {
      "cell_type": "code",
      "source": [
        "! mkdir ~/.kaggle"
      ],
      "metadata": {
        "id": "geZZ3EkwIkP8",
        "colab": {
          "base_uri": "https://localhost:8080/"
        },
        "outputId": "e6e561ff-76df-4dc2-d91b-a03018c616bf"
      },
      "execution_count": null,
      "outputs": [
        {
          "output_type": "stream",
          "name": "stdout",
          "text": [
            "mkdir: cannot create directory ‘/root/.kaggle’: File exists\n"
          ]
        }
      ]
    },
    {
      "cell_type": "code",
      "source": [
        "! cp kaggle.json ~/.kaggle/"
      ],
      "metadata": {
        "id": "6WaZ5CNtIxj-"
      },
      "execution_count": null,
      "outputs": []
    },
    {
      "cell_type": "code",
      "source": [
        "! chmod 600 ~/.kaggle/kaggle.json"
      ],
      "metadata": {
        "id": "JCiAFYgXJR5j"
      },
      "execution_count": null,
      "outputs": []
    },
    {
      "cell_type": "code",
      "source": [
        "! kaggle datasets download qks1lver/nasdaq-and-nyse-stocks-histories"
      ],
      "metadata": {
        "colab": {
          "base_uri": "https://localhost:8080/"
        },
        "id": "MrhecII8JWzr",
        "outputId": "d8c240a1-e816-45b6-ce30-cdbbd05b99e1"
      },
      "execution_count": null,
      "outputs": [
        {
          "output_type": "stream",
          "name": "stdout",
          "text": [
            "nasdaq-and-nyse-stocks-histories.zip: Skipping, found more recently modified local copy (use --force to force download)\n"
          ]
        }
      ]
    },
    {
      "cell_type": "code",
      "source": [
        "! unzip nasdaq-and-nyse-stocks-histories.zip"
      ],
      "metadata": {
        "colab": {
          "base_uri": "https://localhost:8080/"
        },
        "id": "6ii2hZgLJ-Tm",
        "outputId": "b6d3e1f4-9ae2-4263-a1ab-a66cc1dcd174"
      },
      "execution_count": null,
      "outputs": [
        {
          "output_type": "stream",
          "name": "stdout",
          "text": [
            "Archive:  nasdaq-and-nyse-stocks-histories.zip\n",
            "replace NASDAQ.txt? [y]es, [n]o, [A]ll, [N]one, [r]ename: n\n",
            "replace NYSE.txt? [y]es, [n]o, [A]ll, [N]one, [r]ename: N\n"
          ]
        }
      ]
    },
    {
      "cell_type": "code",
      "source": [
        "! pip install -U scikit-learn"
      ],
      "metadata": {
        "colab": {
          "base_uri": "https://localhost:8080/"
        },
        "id": "R_It0ewLRmAS",
        "outputId": "088690c5-acc5-4010-99e7-f7b22388044e"
      },
      "execution_count": null,
      "outputs": [
        {
          "output_type": "stream",
          "name": "stdout",
          "text": [
            "Requirement already satisfied: scikit-learn in /usr/local/lib/python3.7/dist-packages (1.0.2)\n",
            "Requirement already satisfied: joblib>=0.11 in /usr/local/lib/python3.7/dist-packages (from scikit-learn) (1.1.0)\n",
            "Requirement already satisfied: threadpoolctl>=2.0.0 in /usr/local/lib/python3.7/dist-packages (from scikit-learn) (3.1.0)\n",
            "Requirement already satisfied: numpy>=1.14.6 in /usr/local/lib/python3.7/dist-packages (from scikit-learn) (1.21.6)\n",
            "Requirement already satisfied: scipy>=1.1.0 in /usr/local/lib/python3.7/dist-packages (from scikit-learn) (1.4.1)\n"
          ]
        }
      ]
    },
    {
      "cell_type": "code",
      "source": [
        "import pandas as pd\n",
        "import numpy as np\n",
        "%matplotlib inline\n",
        "import matplotlib.pyplot as plt\n",
        "import matplotlib\n",
        "from sklearn.preprocessing import MinMaxScaler\n",
        "from keras.layers import LSTM, Dense, Dropout\n",
        "from sklearn.model_selection import TimeSeriesSplit\n",
        "from sklearn.metrics import mean_squared_error, r2_score\n",
        "import matplotlib.dates as mandates\n",
        "from sklearn import linear_model\n",
        "from keras.models import Sequential\n",
        "from keras.layers import Dense\n",
        "import keras.backend as K\n",
        "from keras.callbacks import EarlyStopping\n",
        "from tensorflow.keras.optimizers import Adam\n",
        "from keras.models import load_model\n",
        "from keras.layers import LSTM\n",
        "from keras.utils.vis_utils import plot_model"
      ],
      "metadata": {
        "id": "ZXB0EwktKxoO"
      },
      "execution_count": null,
      "outputs": []
    },
    {
      "cell_type": "code",
      "source": [
        "a_history = pd.read_csv('full_history/A.csv')"
      ],
      "metadata": {
        "id": "5T56dRMOLiuK"
      },
      "execution_count": null,
      "outputs": []
    },
    {
      "cell_type": "code",
      "source": [
        "a_history.head()"
      ],
      "metadata": {
        "colab": {
          "base_uri": "https://localhost:8080/",
          "height": 206
        },
        "id": "jQkMlAFFLvOX",
        "outputId": "24c4058b-de41-494b-8bf9-9e4375c856ff"
      },
      "execution_count": null,
      "outputs": [
        {
          "output_type": "execute_result",
          "data": {
            "text/plain": [
              "         date   volume       open      close       high        low   adjclose\n",
              "0  2018-11-02  2272100  65.800003  65.930000  66.610001  65.440002  65.930000\n",
              "1  2018-11-01  1882400  65.070000  65.220001  65.339996  64.580002  65.220001\n",
              "2  2018-10-31  3820700  64.349998  64.790001  65.980003  64.190002  64.790001\n",
              "3  2018-10-30  3076700  62.349998  63.639999  63.720001  61.680000  63.639999\n",
              "4  2018-10-29  2919900  63.650002  62.080002  64.169998  61.130001  62.080002"
            ],
            "text/html": [
              "\n",
              "  <div id=\"df-6d500f6f-2b31-4b08-93d3-2f6fdc582d98\">\n",
              "    <div class=\"colab-df-container\">\n",
              "      <div>\n",
              "<style scoped>\n",
              "    .dataframe tbody tr th:only-of-type {\n",
              "        vertical-align: middle;\n",
              "    }\n",
              "\n",
              "    .dataframe tbody tr th {\n",
              "        vertical-align: top;\n",
              "    }\n",
              "\n",
              "    .dataframe thead th {\n",
              "        text-align: right;\n",
              "    }\n",
              "</style>\n",
              "<table border=\"1\" class=\"dataframe\">\n",
              "  <thead>\n",
              "    <tr style=\"text-align: right;\">\n",
              "      <th></th>\n",
              "      <th>date</th>\n",
              "      <th>volume</th>\n",
              "      <th>open</th>\n",
              "      <th>close</th>\n",
              "      <th>high</th>\n",
              "      <th>low</th>\n",
              "      <th>adjclose</th>\n",
              "    </tr>\n",
              "  </thead>\n",
              "  <tbody>\n",
              "    <tr>\n",
              "      <th>0</th>\n",
              "      <td>2018-11-02</td>\n",
              "      <td>2272100</td>\n",
              "      <td>65.800003</td>\n",
              "      <td>65.930000</td>\n",
              "      <td>66.610001</td>\n",
              "      <td>65.440002</td>\n",
              "      <td>65.930000</td>\n",
              "    </tr>\n",
              "    <tr>\n",
              "      <th>1</th>\n",
              "      <td>2018-11-01</td>\n",
              "      <td>1882400</td>\n",
              "      <td>65.070000</td>\n",
              "      <td>65.220001</td>\n",
              "      <td>65.339996</td>\n",
              "      <td>64.580002</td>\n",
              "      <td>65.220001</td>\n",
              "    </tr>\n",
              "    <tr>\n",
              "      <th>2</th>\n",
              "      <td>2018-10-31</td>\n",
              "      <td>3820700</td>\n",
              "      <td>64.349998</td>\n",
              "      <td>64.790001</td>\n",
              "      <td>65.980003</td>\n",
              "      <td>64.190002</td>\n",
              "      <td>64.790001</td>\n",
              "    </tr>\n",
              "    <tr>\n",
              "      <th>3</th>\n",
              "      <td>2018-10-30</td>\n",
              "      <td>3076700</td>\n",
              "      <td>62.349998</td>\n",
              "      <td>63.639999</td>\n",
              "      <td>63.720001</td>\n",
              "      <td>61.680000</td>\n",
              "      <td>63.639999</td>\n",
              "    </tr>\n",
              "    <tr>\n",
              "      <th>4</th>\n",
              "      <td>2018-10-29</td>\n",
              "      <td>2919900</td>\n",
              "      <td>63.650002</td>\n",
              "      <td>62.080002</td>\n",
              "      <td>64.169998</td>\n",
              "      <td>61.130001</td>\n",
              "      <td>62.080002</td>\n",
              "    </tr>\n",
              "  </tbody>\n",
              "</table>\n",
              "</div>\n",
              "      <button class=\"colab-df-convert\" onclick=\"convertToInteractive('df-6d500f6f-2b31-4b08-93d3-2f6fdc582d98')\"\n",
              "              title=\"Convert this dataframe to an interactive table.\"\n",
              "              style=\"display:none;\">\n",
              "        \n",
              "  <svg xmlns=\"http://www.w3.org/2000/svg\" height=\"24px\"viewBox=\"0 0 24 24\"\n",
              "       width=\"24px\">\n",
              "    <path d=\"M0 0h24v24H0V0z\" fill=\"none\"/>\n",
              "    <path d=\"M18.56 5.44l.94 2.06.94-2.06 2.06-.94-2.06-.94-.94-2.06-.94 2.06-2.06.94zm-11 1L8.5 8.5l.94-2.06 2.06-.94-2.06-.94L8.5 2.5l-.94 2.06-2.06.94zm10 10l.94 2.06.94-2.06 2.06-.94-2.06-.94-.94-2.06-.94 2.06-2.06.94z\"/><path d=\"M17.41 7.96l-1.37-1.37c-.4-.4-.92-.59-1.43-.59-.52 0-1.04.2-1.43.59L10.3 9.45l-7.72 7.72c-.78.78-.78 2.05 0 2.83L4 21.41c.39.39.9.59 1.41.59.51 0 1.02-.2 1.41-.59l7.78-7.78 2.81-2.81c.8-.78.8-2.07 0-2.86zM5.41 20L4 18.59l7.72-7.72 1.47 1.35L5.41 20z\"/>\n",
              "  </svg>\n",
              "      </button>\n",
              "      \n",
              "  <style>\n",
              "    .colab-df-container {\n",
              "      display:flex;\n",
              "      flex-wrap:wrap;\n",
              "      gap: 12px;\n",
              "    }\n",
              "\n",
              "    .colab-df-convert {\n",
              "      background-color: #E8F0FE;\n",
              "      border: none;\n",
              "      border-radius: 50%;\n",
              "      cursor: pointer;\n",
              "      display: none;\n",
              "      fill: #1967D2;\n",
              "      height: 32px;\n",
              "      padding: 0 0 0 0;\n",
              "      width: 32px;\n",
              "    }\n",
              "\n",
              "    .colab-df-convert:hover {\n",
              "      background-color: #E2EBFA;\n",
              "      box-shadow: 0px 1px 2px rgba(60, 64, 67, 0.3), 0px 1px 3px 1px rgba(60, 64, 67, 0.15);\n",
              "      fill: #174EA6;\n",
              "    }\n",
              "\n",
              "    [theme=dark] .colab-df-convert {\n",
              "      background-color: #3B4455;\n",
              "      fill: #D2E3FC;\n",
              "    }\n",
              "\n",
              "    [theme=dark] .colab-df-convert:hover {\n",
              "      background-color: #434B5C;\n",
              "      box-shadow: 0px 1px 3px 1px rgba(0, 0, 0, 0.15);\n",
              "      filter: drop-shadow(0px 1px 2px rgba(0, 0, 0, 0.3));\n",
              "      fill: #FFFFFF;\n",
              "    }\n",
              "  </style>\n",
              "\n",
              "      <script>\n",
              "        const buttonEl =\n",
              "          document.querySelector('#df-6d500f6f-2b31-4b08-93d3-2f6fdc582d98 button.colab-df-convert');\n",
              "        buttonEl.style.display =\n",
              "          google.colab.kernel.accessAllowed ? 'block' : 'none';\n",
              "\n",
              "        async function convertToInteractive(key) {\n",
              "          const element = document.querySelector('#df-6d500f6f-2b31-4b08-93d3-2f6fdc582d98');\n",
              "          const dataTable =\n",
              "            await google.colab.kernel.invokeFunction('convertToInteractive',\n",
              "                                                     [key], {});\n",
              "          if (!dataTable) return;\n",
              "\n",
              "          const docLinkHtml = 'Like what you see? Visit the ' +\n",
              "            '<a target=\"_blank\" href=https://colab.research.google.com/notebooks/data_table.ipynb>data table notebook</a>'\n",
              "            + ' to learn more about interactive tables.';\n",
              "          element.innerHTML = '';\n",
              "          dataTable['output_type'] = 'display_data';\n",
              "          await google.colab.output.renderOutput(dataTable, element);\n",
              "          const docLink = document.createElement('div');\n",
              "          docLink.innerHTML = docLinkHtml;\n",
              "          element.appendChild(docLink);\n",
              "        }\n",
              "      </script>\n",
              "    </div>\n",
              "  </div>\n",
              "  "
            ]
          },
          "metadata": {},
          "execution_count": 25
        }
      ]
    },
    {
      "cell_type": "code",
      "source": [
        "a_history.isna().sum()"
      ],
      "metadata": {
        "colab": {
          "base_uri": "https://localhost:8080/"
        },
        "id": "XEmA5tepLzlg",
        "outputId": "3e269c05-ba9d-4687-ad96-6d11f4d595e2"
      },
      "execution_count": null,
      "outputs": [
        {
          "output_type": "execute_result",
          "data": {
            "text/plain": [
              "date        0\n",
              "volume      0\n",
              "open        0\n",
              "close       0\n",
              "high        0\n",
              "low         0\n",
              "adjclose    0\n",
              "dtype: int64"
            ]
          },
          "metadata": {},
          "execution_count": 26
        }
      ]
    },
    {
      "cell_type": "code",
      "source": [
        "a_history.shape"
      ],
      "metadata": {
        "id": "JarirxsFMTS3",
        "outputId": "3a488018-5d4e-4ef5-bf8d-deb606d7bff5",
        "colab": {
          "base_uri": "https://localhost:8080/"
        }
      },
      "execution_count": null,
      "outputs": [
        {
          "output_type": "execute_result",
          "data": {
            "text/plain": [
              "(4771, 7)"
            ]
          },
          "metadata": {},
          "execution_count": 27
        }
      ]
    },
    {
      "cell_type": "code",
      "source": [
        "a_history.describe()"
      ],
      "metadata": {
        "colab": {
          "base_uri": "https://localhost:8080/",
          "height": 300
        },
        "id": "Qa8pSAvKMJDG",
        "outputId": "3b5187d5-6647-4bcd-a2c2-3550c317720d"
      },
      "execution_count": null,
      "outputs": [
        {
          "output_type": "execute_result",
          "data": {
            "text/plain": [
              "             volume         open        close         high          low  \\\n",
              "count  4.771000e+03  4771.000000  4771.000000  4771.000000  4771.000000   \n",
              "mean   3.796878e+06    31.045007    31.058038    31.490768    30.608470   \n",
              "std    2.518564e+06    15.308677    15.303916    15.537496    15.077564   \n",
              "min    5.327000e+05     7.653791     7.761087     7.961373     7.510730   \n",
              "25%    2.299400e+06    20.618741    20.615164    20.994278    20.257511   \n",
              "50%    3.289200e+06    26.444921    26.459227    26.773962    26.123034   \n",
              "75%    4.609300e+06    39.656651    39.573984    40.089415    39.230000   \n",
              "max    6.254630e+07   111.587982   113.733902   115.879829   103.719597   \n",
              "\n",
              "          adjclose  \n",
              "count  4771.000000  \n",
              "mean     28.987821  \n",
              "std      15.271229  \n",
              "min       6.765686  \n",
              "25%      18.418041  \n",
              "50%      24.222071  \n",
              "75%      37.828548  \n",
              "max      99.146912  "
            ],
            "text/html": [
              "\n",
              "  <div id=\"df-8b36ddb5-03ce-4311-ad8a-dfaacd691cc1\">\n",
              "    <div class=\"colab-df-container\">\n",
              "      <div>\n",
              "<style scoped>\n",
              "    .dataframe tbody tr th:only-of-type {\n",
              "        vertical-align: middle;\n",
              "    }\n",
              "\n",
              "    .dataframe tbody tr th {\n",
              "        vertical-align: top;\n",
              "    }\n",
              "\n",
              "    .dataframe thead th {\n",
              "        text-align: right;\n",
              "    }\n",
              "</style>\n",
              "<table border=\"1\" class=\"dataframe\">\n",
              "  <thead>\n",
              "    <tr style=\"text-align: right;\">\n",
              "      <th></th>\n",
              "      <th>volume</th>\n",
              "      <th>open</th>\n",
              "      <th>close</th>\n",
              "      <th>high</th>\n",
              "      <th>low</th>\n",
              "      <th>adjclose</th>\n",
              "    </tr>\n",
              "  </thead>\n",
              "  <tbody>\n",
              "    <tr>\n",
              "      <th>count</th>\n",
              "      <td>4.771000e+03</td>\n",
              "      <td>4771.000000</td>\n",
              "      <td>4771.000000</td>\n",
              "      <td>4771.000000</td>\n",
              "      <td>4771.000000</td>\n",
              "      <td>4771.000000</td>\n",
              "    </tr>\n",
              "    <tr>\n",
              "      <th>mean</th>\n",
              "      <td>3.796878e+06</td>\n",
              "      <td>31.045007</td>\n",
              "      <td>31.058038</td>\n",
              "      <td>31.490768</td>\n",
              "      <td>30.608470</td>\n",
              "      <td>28.987821</td>\n",
              "    </tr>\n",
              "    <tr>\n",
              "      <th>std</th>\n",
              "      <td>2.518564e+06</td>\n",
              "      <td>15.308677</td>\n",
              "      <td>15.303916</td>\n",
              "      <td>15.537496</td>\n",
              "      <td>15.077564</td>\n",
              "      <td>15.271229</td>\n",
              "    </tr>\n",
              "    <tr>\n",
              "      <th>min</th>\n",
              "      <td>5.327000e+05</td>\n",
              "      <td>7.653791</td>\n",
              "      <td>7.761087</td>\n",
              "      <td>7.961373</td>\n",
              "      <td>7.510730</td>\n",
              "      <td>6.765686</td>\n",
              "    </tr>\n",
              "    <tr>\n",
              "      <th>25%</th>\n",
              "      <td>2.299400e+06</td>\n",
              "      <td>20.618741</td>\n",
              "      <td>20.615164</td>\n",
              "      <td>20.994278</td>\n",
              "      <td>20.257511</td>\n",
              "      <td>18.418041</td>\n",
              "    </tr>\n",
              "    <tr>\n",
              "      <th>50%</th>\n",
              "      <td>3.289200e+06</td>\n",
              "      <td>26.444921</td>\n",
              "      <td>26.459227</td>\n",
              "      <td>26.773962</td>\n",
              "      <td>26.123034</td>\n",
              "      <td>24.222071</td>\n",
              "    </tr>\n",
              "    <tr>\n",
              "      <th>75%</th>\n",
              "      <td>4.609300e+06</td>\n",
              "      <td>39.656651</td>\n",
              "      <td>39.573984</td>\n",
              "      <td>40.089415</td>\n",
              "      <td>39.230000</td>\n",
              "      <td>37.828548</td>\n",
              "    </tr>\n",
              "    <tr>\n",
              "      <th>max</th>\n",
              "      <td>6.254630e+07</td>\n",
              "      <td>111.587982</td>\n",
              "      <td>113.733902</td>\n",
              "      <td>115.879829</td>\n",
              "      <td>103.719597</td>\n",
              "      <td>99.146912</td>\n",
              "    </tr>\n",
              "  </tbody>\n",
              "</table>\n",
              "</div>\n",
              "      <button class=\"colab-df-convert\" onclick=\"convertToInteractive('df-8b36ddb5-03ce-4311-ad8a-dfaacd691cc1')\"\n",
              "              title=\"Convert this dataframe to an interactive table.\"\n",
              "              style=\"display:none;\">\n",
              "        \n",
              "  <svg xmlns=\"http://www.w3.org/2000/svg\" height=\"24px\"viewBox=\"0 0 24 24\"\n",
              "       width=\"24px\">\n",
              "    <path d=\"M0 0h24v24H0V0z\" fill=\"none\"/>\n",
              "    <path d=\"M18.56 5.44l.94 2.06.94-2.06 2.06-.94-2.06-.94-.94-2.06-.94 2.06-2.06.94zm-11 1L8.5 8.5l.94-2.06 2.06-.94-2.06-.94L8.5 2.5l-.94 2.06-2.06.94zm10 10l.94 2.06.94-2.06 2.06-.94-2.06-.94-.94-2.06-.94 2.06-2.06.94z\"/><path d=\"M17.41 7.96l-1.37-1.37c-.4-.4-.92-.59-1.43-.59-.52 0-1.04.2-1.43.59L10.3 9.45l-7.72 7.72c-.78.78-.78 2.05 0 2.83L4 21.41c.39.39.9.59 1.41.59.51 0 1.02-.2 1.41-.59l7.78-7.78 2.81-2.81c.8-.78.8-2.07 0-2.86zM5.41 20L4 18.59l7.72-7.72 1.47 1.35L5.41 20z\"/>\n",
              "  </svg>\n",
              "      </button>\n",
              "      \n",
              "  <style>\n",
              "    .colab-df-container {\n",
              "      display:flex;\n",
              "      flex-wrap:wrap;\n",
              "      gap: 12px;\n",
              "    }\n",
              "\n",
              "    .colab-df-convert {\n",
              "      background-color: #E8F0FE;\n",
              "      border: none;\n",
              "      border-radius: 50%;\n",
              "      cursor: pointer;\n",
              "      display: none;\n",
              "      fill: #1967D2;\n",
              "      height: 32px;\n",
              "      padding: 0 0 0 0;\n",
              "      width: 32px;\n",
              "    }\n",
              "\n",
              "    .colab-df-convert:hover {\n",
              "      background-color: #E2EBFA;\n",
              "      box-shadow: 0px 1px 2px rgba(60, 64, 67, 0.3), 0px 1px 3px 1px rgba(60, 64, 67, 0.15);\n",
              "      fill: #174EA6;\n",
              "    }\n",
              "\n",
              "    [theme=dark] .colab-df-convert {\n",
              "      background-color: #3B4455;\n",
              "      fill: #D2E3FC;\n",
              "    }\n",
              "\n",
              "    [theme=dark] .colab-df-convert:hover {\n",
              "      background-color: #434B5C;\n",
              "      box-shadow: 0px 1px 3px 1px rgba(0, 0, 0, 0.15);\n",
              "      filter: drop-shadow(0px 1px 2px rgba(0, 0, 0, 0.3));\n",
              "      fill: #FFFFFF;\n",
              "    }\n",
              "  </style>\n",
              "\n",
              "      <script>\n",
              "        const buttonEl =\n",
              "          document.querySelector('#df-8b36ddb5-03ce-4311-ad8a-dfaacd691cc1 button.colab-df-convert');\n",
              "        buttonEl.style.display =\n",
              "          google.colab.kernel.accessAllowed ? 'block' : 'none';\n",
              "\n",
              "        async function convertToInteractive(key) {\n",
              "          const element = document.querySelector('#df-8b36ddb5-03ce-4311-ad8a-dfaacd691cc1');\n",
              "          const dataTable =\n",
              "            await google.colab.kernel.invokeFunction('convertToInteractive',\n",
              "                                                     [key], {});\n",
              "          if (!dataTable) return;\n",
              "\n",
              "          const docLinkHtml = 'Like what you see? Visit the ' +\n",
              "            '<a target=\"_blank\" href=https://colab.research.google.com/notebooks/data_table.ipynb>data table notebook</a>'\n",
              "            + ' to learn more about interactive tables.';\n",
              "          element.innerHTML = '';\n",
              "          dataTable['output_type'] = 'display_data';\n",
              "          await google.colab.output.renderOutput(dataTable, element);\n",
              "          const docLink = document.createElement('div');\n",
              "          docLink.innerHTML = docLinkHtml;\n",
              "          element.appendChild(docLink);\n",
              "        }\n",
              "      </script>\n",
              "    </div>\n",
              "  </div>\n",
              "  "
            ]
          },
          "metadata": {},
          "execution_count": 28
        }
      ]
    },
    {
      "cell_type": "code",
      "source": [
        "a_history['adjclose'].plot()"
      ],
      "metadata": {
        "id": "BoxiJnJCMO16",
        "colab": {
          "base_uri": "https://localhost:8080/",
          "height": 282
        },
        "outputId": "86bfd82d-48c7-424f-989c-79c5af94628f"
      },
      "execution_count": null,
      "outputs": [
        {
          "output_type": "execute_result",
          "data": {
            "text/plain": [
              "<matplotlib.axes._subplots.AxesSubplot at 0x7f3e23d74a50>"
            ]
          },
          "metadata": {},
          "execution_count": 29
        },
        {
          "output_type": "display_data",
          "data": {
            "text/plain": [
              "<Figure size 432x288 with 1 Axes>"
            ],
            "image/png": "[encoded data removed]"
          },
          "metadata": {
            "needs_background": "light"
          }
        }
      ]
    },
    {
      "cell_type": "code",
      "source": [
        "target = a_history[['adjclose']]\n",
        "features = a_history.drop(['close','adjclose','date'], axis=1)"
      ],
      "metadata": {
        "id": "hNGwKOGuodxI"
      },
      "execution_count": null,
      "outputs": []
    },
    {
      "cell_type": "code",
      "source": [
        "scaler = MinMaxScaler()\n",
        "t_features = pd.DataFrame(data=scaler.fit_transform(features), columns=features.columns)\n",
        "t_features.head()"
      ],
      "metadata": {
        "colab": {
          "base_uri": "https://localhost:8080/",
          "height": 206
        },
        "id": "jjXdUoS8qa3v",
        "outputId": "6b5e7bd5-0221-42dc-88a1-48e4480dd213"
      },
      "execution_count": null,
      "outputs": [
        {
          "output_type": "execute_result",
          "data": {
            "text/plain": [
              "     volume      open      high       low\n",
              "0  0.028049  0.559452  0.543453  0.602120\n",
              "1  0.021765  0.552428  0.531685  0.593181\n",
              "2  0.053021  0.545501  0.537615  0.589127\n",
              "3  0.041023  0.526258  0.516674  0.563038\n",
              "4  0.038495  0.538766  0.520843  0.557322"
            ],
            "text/html": [
              "\n",
              "  <div id=\"df-242ae25c-b061-43cf-900a-46db526d486f\">\n",
              "    <div class=\"colab-df-container\">\n",
              "      <div>\n",
              "<style scoped>\n",
              "    .dataframe tbody tr th:only-of-type {\n",
              "        vertical-align: middle;\n",
              "    }\n",
              "\n",
              "    .dataframe tbody tr th {\n",
              "        vertical-align: top;\n",
              "    }\n",
              "\n",
              "    .dataframe thead th {\n",
              "        text-align: right;\n",
              "    }\n",
              "</style>\n",
              "<table border=\"1\" class=\"dataframe\">\n",
              "  <thead>\n",
              "    <tr style=\"text-align: right;\">\n",
              "      <th></th>\n",
              "      <th>volume</th>\n",
              "      <th>open</th>\n",
              "      <th>high</th>\n",
              "      <th>low</th>\n",
              "    </tr>\n",
              "  </thead>\n",
              "  <tbody>\n",
              "    <tr>\n",
              "      <th>0</th>\n",
              "      <td>0.028049</td>\n",
              "      <td>0.559452</td>\n",
              "      <td>0.543453</td>\n",
              "      <td>0.602120</td>\n",
              "    </tr>\n",
              "    <tr>\n",
              "      <th>1</th>\n",
              "      <td>0.021765</td>\n",
              "      <td>0.552428</td>\n",
              "      <td>0.531685</td>\n",
              "      <td>0.593181</td>\n",
              "    </tr>\n",
              "    <tr>\n",
              "      <th>2</th>\n",
              "      <td>0.053021</td>\n",
              "      <td>0.545501</td>\n",
              "      <td>0.537615</td>\n",
              "      <td>0.589127</td>\n",
              "    </tr>\n",
              "    <tr>\n",
              "      <th>3</th>\n",
              "      <td>0.041023</td>\n",
              "      <td>0.526258</td>\n",
              "      <td>0.516674</td>\n",
              "      <td>0.563038</td>\n",
              "    </tr>\n",
              "    <tr>\n",
              "      <th>4</th>\n",
              "      <td>0.038495</td>\n",
              "      <td>0.538766</td>\n",
              "      <td>0.520843</td>\n",
              "      <td>0.557322</td>\n",
              "    </tr>\n",
              "  </tbody>\n",
              "</table>\n",
              "</div>\n",
              "      <button class=\"colab-df-convert\" onclick=\"convertToInteractive('df-242ae25c-b061-43cf-900a-46db526d486f')\"\n",
              "              title=\"Convert this dataframe to an interactive table.\"\n",
              "              style=\"display:none;\">\n",
              "        \n",
              "  <svg xmlns=\"http://www.w3.org/2000/svg\" height=\"24px\"viewBox=\"0 0 24 24\"\n",
              "       width=\"24px\">\n",
              "    <path d=\"M0 0h24v24H0V0z\" fill=\"none\"/>\n",
              "    <path d=\"M18.56 5.44l.94 2.06.94-2.06 2.06-.94-2.06-.94-.94-2.06-.94 2.06-2.06.94zm-11 1L8.5 8.5l.94-2.06 2.06-.94-2.06-.94L8.5 2.5l-.94 2.06-2.06.94zm10 10l.94 2.06.94-2.06 2.06-.94-2.06-.94-.94-2.06-.94 2.06-2.06.94z\"/><path d=\"M17.41 7.96l-1.37-1.37c-.4-.4-.92-.59-1.43-.59-.52 0-1.04.2-1.43.59L10.3 9.45l-7.72 7.72c-.78.78-.78 2.05 0 2.83L4 21.41c.39.39.9.59 1.41.59.51 0 1.02-.2 1.41-.59l7.78-7.78 2.81-2.81c.8-.78.8-2.07 0-2.86zM5.41 20L4 18.59l7.72-7.72 1.47 1.35L5.41 20z\"/>\n",
              "  </svg>\n",
              "      </button>\n",
              "      \n",
              "  <style>\n",
              "    .colab-df-container {\n",
              "      display:flex;\n",
              "      flex-wrap:wrap;\n",
              "      gap: 12px;\n",
              "    }\n",
              "\n",
              "    .colab-df-convert {\n",
              "      background-color: #E8F0FE;\n",
              "      border: none;\n",
              "      border-radius: 50%;\n",
              "      cursor: pointer;\n",
              "      display: none;\n",
              "      fill: #1967D2;\n",
              "      height: 32px;\n",
              "      padding: 0 0 0 0;\n",
              "      width: 32px;\n",
              "    }\n",
              "\n",
              "    .colab-df-convert:hover {\n",
              "      background-color: #E2EBFA;\n",
              "      box-shadow: 0px 1px 2px rgba(60, 64, 67, 0.3), 0px 1px 3px 1px rgba(60, 64, 67, 0.15);\n",
              "      fill: #174EA6;\n",
              "    }\n",
              "\n",
              "    [theme=dark] .colab-df-convert {\n",
              "      background-color: #3B4455;\n",
              "      fill: #D2E3FC;\n",
              "    }\n",
              "\n",
              "    [theme=dark] .colab-df-convert:hover {\n",
              "      background-color: #434B5C;\n",
              "      box-shadow: 0px 1px 3px 1px rgba(0, 0, 0, 0.15);\n",
              "      filter: drop-shadow(0px 1px 2px rgba(0, 0, 0, 0.3));\n",
              "      fill: #FFFFFF;\n",
              "    }\n",
              "  </style>\n",
              "\n",
              "      <script>\n",
              "        const buttonEl =\n",
              "          document.querySelector('#df-242ae25c-b061-43cf-900a-46db526d486f button.colab-df-convert');\n",
              "        buttonEl.style.display =\n",
              "          google.colab.kernel.accessAllowed ? 'block' : 'none';\n",
              "\n",
              "        async function convertToInteractive(key) {\n",
              "          const element = document.querySelector('#df-242ae25c-b061-43cf-900a-46db526d486f');\n",
              "          const dataTable =\n",
              "            await google.colab.kernel.invokeFunction('convertToInteractive',\n",
              "                                                     [key], {});\n",
              "          if (!dataTable) return;\n",
              "\n",
              "          const docLinkHtml = 'Like what you see? Visit the ' +\n",
              "            '<a target=\"_blank\" href=https://colab.research.google.com/notebooks/data_table.ipynb>data table notebook</a>'\n",
              "            + ' to learn more about interactive tables.';\n",
              "          element.innerHTML = '';\n",
              "          dataTable['output_type'] = 'display_data';\n",
              "          await google.colab.output.renderOutput(dataTable, element);\n",
              "          const docLink = document.createElement('div');\n",
              "          docLink.innerHTML = docLinkHtml;\n",
              "          element.appendChild(docLink);\n",
              "        }\n",
              "      </script>\n",
              "    </div>\n",
              "  </div>\n",
              "  "
            ]
          },
          "metadata": {},
          "execution_count": 44
        }
      ]
    },
    {
      "cell_type": "code",
      "source": [
        "timesplit= TimeSeriesSplit(n_splits=10)\n",
        "for train_index, test_index in timesplit.split(a_history['date']):\n",
        "        X_train, X_test = t_features[:len(train_index)], t_features[len(train_index): (len(train_index)+len(test_index))]\n",
        "        y_train, y_test = target[:len(train_index)].values.ravel(), target[len(train_index): (len(train_index)+len(test_index))].values.ravel()"
      ],
      "metadata": {
        "id": "p6kL-yTarr_3"
      },
      "execution_count": null,
      "outputs": []
    },
    {
      "cell_type": "code",
      "source": [
        "trainX =np.array(X_train)\n",
        "testX =np.array(X_test)\n",
        "X_train = trainX.reshape(X_train.shape[0], 1, X_train.shape[1])\n",
        "X_test = testX.reshape(X_test.shape[0], 1, X_test.shape[1])"
      ],
      "metadata": {
        "id": "MWi3O-GFua3U"
      },
      "execution_count": null,
      "outputs": []
    },
    {
      "cell_type": "code",
      "source": [
        "lstm = Sequential()\n",
        "lstm.add(LSTM(32, input_shape=(1, trainX.shape[1]), activation='relu', return_sequences=False))\n",
        "lstm.add(Dense(1))\n",
        "lstm.compile(loss='mean_squared_error', optimizer='adam')\n",
        "plot_model(lstm, show_shapes=True, show_layer_names=True)"
      ],
      "metadata": {
        "colab": {
          "base_uri": "https://localhost:8080/",
          "height": 312
        },
        "id": "SF9rk560vIre",
        "outputId": "b4a06ba9-00b4-47a3-fbdc-d6d8b907268c"
      },
      "execution_count": null,
      "outputs": [
        {
          "output_type": "execute_result",
          "data": {
            "text/plain": [
              "<IPython.core.display.Image object>"
            ],
            "image/png": "[encoded data removed]"
          },
          "metadata": {},
          "execution_count": 47
        }
      ]
    },
    {
      "cell_type": "code",
      "source": [
        "history=lstm.fit(np.asarray(X_train).astype(np.float32), np.asarray(y_train).astype(np.float32), epochs=100, batch_size=8, verbose=1, shuffle=False)"
      ],
      "metadata": {
        "id": "OA2pxc2ovSwO",
        "colab": {
          "base_uri": "https://localhost:8080/"
        },
        "outputId": "806c336a-b99c-4c78-9f28-046601d76cd8"
      },
      "execution_count": null,
      "outputs": [
        {
          "output_type": "stream",
          "name": "stdout",
          "text": [
            "Epoch 1/100\n",
            "543/543 [==============================] - 3s 3ms/step - loss: 964.7914\n",
            "Epoch 2/100\n",
            "543/543 [==============================] - 1s 3ms/step - loss: 348.0803\n",
            "Epoch 3/100\n",
            "543/543 [==============================] - 1s 3ms/step - loss: 66.8650\n",
            "Epoch 4/100\n",
            "543/543 [==============================] - 1s 3ms/step - loss: 37.4448\n",
            "Epoch 5/100\n",
            "543/543 [==============================] - 1s 2ms/step - loss: 19.7325\n",
            "Epoch 6/100\n",
            "543/543 [==============================] - 1s 3ms/step - loss: 12.9799\n",
            "Epoch 7/100\n",
            "543/543 [==============================] - 1s 2ms/step - loss: 5.7941\n",
            "Epoch 8/100\n",
            "543/543 [==============================] - 1s 2ms/step - loss: 2.5049\n",
            "Epoch 9/100\n",
            "543/543 [==============================] - 1s 2ms/step - loss: 1.0281\n",
            "Epoch 10/100\n",
            "543/543 [==============================] - 1s 2ms/step - loss: 0.4932\n",
            "Epoch 11/100\n",
            "543/543 [==============================] - 1s 3ms/step - loss: 0.3343\n",
            "Epoch 12/100\n",
            "543/543 [==============================] - 1s 3ms/step - loss: 0.2875\n",
            "Epoch 13/100\n",
            "543/543 [==============================] - 1s 3ms/step - loss: 0.2658\n",
            "Epoch 14/100\n",
            "543/543 [==============================] - 1s 2ms/step - loss: 0.2510\n",
            "Epoch 15/100\n",
            "543/543 [==============================] - 1s 3ms/step - loss: 0.2405\n",
            "Epoch 16/100\n",
            "543/543 [==============================] - 1s 3ms/step - loss: 0.2335\n",
            "Epoch 17/100\n",
            "543/543 [==============================] - 1s 2ms/step - loss: 0.2293\n",
            "Epoch 18/100\n",
            "543/543 [==============================] - 1s 2ms/step - loss: 0.2268\n",
            "Epoch 19/100\n",
            "543/543 [==============================] - 1s 3ms/step - loss: 0.2251\n",
            "Epoch 20/100\n",
            "543/543 [==============================] - 2s 4ms/step - loss: 0.2238\n",
            "Epoch 21/100\n",
            "543/543 [==============================] - 2s 3ms/step - loss: 0.2225\n",
            "Epoch 22/100\n",
            "543/543 [==============================] - 2s 3ms/step - loss: 0.2212\n",
            "Epoch 23/100\n",
            "543/543 [==============================] - 2s 3ms/step - loss: 0.2199\n",
            "Epoch 24/100\n",
            "543/543 [==============================] - 2s 4ms/step - loss: 0.2188\n",
            "Epoch 25/100\n",
            "543/543 [==============================] - 2s 4ms/step - loss: 0.2178\n",
            "Epoch 26/100\n",
            "543/543 [==============================] - 1s 3ms/step - loss: 0.2169\n",
            "Epoch 27/100\n",
            "543/543 [==============================] - 1s 3ms/step - loss: 0.2162\n",
            "Epoch 28/100\n",
            "543/543 [==============================] - 1s 3ms/step - loss: 0.2155\n",
            "Epoch 29/100\n",
            "543/543 [==============================] - 1s 3ms/step - loss: 0.2149\n",
            "Epoch 30/100\n",
            "543/543 [==============================] - 1s 3ms/step - loss: 0.2144\n",
            "Epoch 31/100\n",
            "543/543 [==============================] - 1s 3ms/step - loss: 0.2139\n",
            "Epoch 32/100\n",
            "543/543 [==============================] - 1s 3ms/step - loss: 0.2135\n",
            "Epoch 33/100\n",
            "543/543 [==============================] - 1s 3ms/step - loss: 0.2132\n",
            "Epoch 34/100\n",
            "543/543 [==============================] - 1s 3ms/step - loss: 0.2129\n",
            "Epoch 35/100\n",
            "543/543 [==============================] - 1s 3ms/step - loss: 0.2126\n",
            "Epoch 36/100\n",
            "543/543 [==============================] - 1s 3ms/step - loss: 0.2124\n",
            "Epoch 37/100\n",
            "543/543 [==============================] - 1s 3ms/step - loss: 0.2122\n",
            "Epoch 38/100\n",
            "543/543 [==============================] - 1s 3ms/step - loss: 0.2120\n",
            "Epoch 39/100\n",
            "543/543 [==============================] - 1s 3ms/step - loss: 0.2119\n",
            "Epoch 40/100\n",
            "543/543 [==============================] - 1s 3ms/step - loss: 0.2118\n",
            "Epoch 41/100\n",
            "543/543 [==============================] - 1s 3ms/step - loss: 0.2116\n",
            "Epoch 42/100\n",
            "543/543 [==============================] - 1s 3ms/step - loss: 0.2115\n",
            "Epoch 43/100\n",
            "543/543 [==============================] - 1s 3ms/step - loss: 0.2114\n",
            "Epoch 44/100\n",
            "543/543 [==============================] - 1s 3ms/step - loss: 0.2113\n",
            "Epoch 45/100\n",
            "543/543 [==============================] - 1s 3ms/step - loss: 0.2113\n",
            "Epoch 46/100\n",
            "543/543 [==============================] - 1s 3ms/step - loss: 0.2112\n",
            "Epoch 47/100\n",
            "543/543 [==============================] - 1s 3ms/step - loss: 0.2111\n",
            "Epoch 48/100\n",
            "543/543 [==============================] - 1s 3ms/step - loss: 0.2110\n",
            "Epoch 49/100\n",
            "543/543 [==============================] - 1s 2ms/step - loss: 0.2109\n",
            "Epoch 50/100\n",
            "543/543 [==============================] - 1s 3ms/step - loss: 0.2108\n",
            "Epoch 51/100\n",
            "543/543 [==============================] - 1s 3ms/step - loss: 0.2107\n",
            "Epoch 52/100\n",
            "543/543 [==============================] - 1s 2ms/step - loss: 0.2106\n",
            "Epoch 53/100\n",
            "543/543 [==============================] - 1s 2ms/step - loss: 0.2105\n",
            "Epoch 54/100\n",
            "543/543 [==============================] - 2s 3ms/step - loss: 0.2104\n",
            "Epoch 55/100\n",
            "543/543 [==============================] - 1s 3ms/step - loss: 0.2102\n",
            "Epoch 56/100\n",
            "543/543 [==============================] - 1s 3ms/step - loss: 0.2101\n",
            "Epoch 57/100\n",
            "543/543 [==============================] - 1s 3ms/step - loss: 0.2100\n",
            "Epoch 58/100\n",
            "543/543 [==============================] - 1s 3ms/step - loss: 0.2099\n",
            "Epoch 59/100\n",
            "543/543 [==============================] - 1s 3ms/step - loss: 0.2098\n",
            "Epoch 60/100\n",
            "543/543 [==============================] - 1s 3ms/step - loss: 0.2096\n",
            "Epoch 61/100\n",
            "543/543 [==============================] - 1s 3ms/step - loss: 0.2095\n",
            "Epoch 62/100\n",
            "543/543 [==============================] - 1s 2ms/step - loss: 0.2094\n",
            "Epoch 63/100\n",
            "543/543 [==============================] - 1s 3ms/step - loss: 0.2093\n",
            "Epoch 64/100\n",
            "543/543 [==============================] - 1s 3ms/step - loss: 0.2091\n",
            "Epoch 65/100\n",
            "543/543 [==============================] - 1s 3ms/step - loss: 0.2090\n",
            "Epoch 66/100\n",
            "543/543 [==============================] - 1s 3ms/step - loss: 0.2088\n",
            "Epoch 67/100\n",
            "543/543 [==============================] - 1s 3ms/step - loss: 0.2087\n",
            "Epoch 68/100\n",
            "543/543 [==============================] - 1s 3ms/step - loss: 0.2085\n",
            "Epoch 69/100\n",
            "543/543 [==============================] - 1s 3ms/step - loss: 0.2084\n",
            "Epoch 70/100\n",
            "543/543 [==============================] - 1s 3ms/step - loss: 0.2082\n",
            "Epoch 71/100\n",
            "543/543 [==============================] - 1s 2ms/step - loss: 0.2081\n",
            "Epoch 72/100\n",
            "543/543 [==============================] - 1s 3ms/step - loss: 0.2079\n",
            "Epoch 73/100\n",
            "543/543 [==============================] - 1s 3ms/step - loss: 0.2078\n",
            "Epoch 74/100\n",
            "543/543 [==============================] - 1s 3ms/step - loss: 0.2076\n",
            "Epoch 75/100\n",
            "543/543 [==============================] - 2s 3ms/step - loss: 0.2075\n",
            "Epoch 76/100\n",
            "543/543 [==============================] - 1s 3ms/step - loss: 0.2073\n",
            "Epoch 77/100\n",
            "543/543 [==============================] - 1s 3ms/step - loss: 0.2072\n",
            "Epoch 78/100\n",
            "543/543 [==============================] - 1s 3ms/step - loss: 0.2070\n",
            "Epoch 79/100\n",
            "543/543 [==============================] - 1s 3ms/step - loss: 0.2069\n",
            "Epoch 80/100\n",
            "543/543 [==============================] - 1s 3ms/step - loss: 0.2067\n",
            "Epoch 81/100\n",
            "543/543 [==============================] - 2s 3ms/step - loss: 0.2066\n",
            "Epoch 82/100\n",
            "543/543 [==============================] - 3s 5ms/step - loss: 0.2064\n",
            "Epoch 83/100\n",
            "543/543 [==============================] - 3s 5ms/step - loss: 0.2063\n",
            "Epoch 84/100\n",
            "543/543 [==============================] - 1s 3ms/step - loss: 0.2061\n",
            "Epoch 85/100\n",
            "543/543 [==============================] - 1s 2ms/step - loss: 0.2060\n",
            "Epoch 86/100\n",
            "543/543 [==============================] - 1s 3ms/step - loss: 0.2058\n",
            "Epoch 87/100\n",
            "543/543 [==============================] - 1s 2ms/step - loss: 0.2056\n",
            "Epoch 88/100\n",
            "543/543 [==============================] - 1s 3ms/step - loss: 0.2055\n",
            "Epoch 89/100\n",
            "543/543 [==============================] - 1s 3ms/step - loss: 0.2053\n",
            "Epoch 90/100\n",
            "543/543 [==============================] - 1s 3ms/step - loss: 0.2052\n",
            "Epoch 91/100\n",
            "543/543 [==============================] - 1s 3ms/step - loss: 0.2050\n",
            "Epoch 92/100\n",
            "543/543 [==============================] - 1s 3ms/step - loss: 0.2049\n",
            "Epoch 93/100\n",
            "543/543 [==============================] - 1s 3ms/step - loss: 0.2047\n",
            "Epoch 94/100\n",
            "543/543 [==============================] - 1s 3ms/step - loss: 0.2046\n",
            "Epoch 95/100\n",
            "543/543 [==============================] - 1s 3ms/step - loss: 0.2044\n",
            "Epoch 96/100\n",
            "543/543 [==============================] - 1s 3ms/step - loss: 0.2043\n",
            "Epoch 97/100\n",
            "543/543 [==============================] - 1s 3ms/step - loss: 0.2041\n",
            "Epoch 98/100\n",
            "543/543 [==============================] - 2s 4ms/step - loss: 0.2040\n",
            "Epoch 99/100\n",
            "543/543 [==============================] - 1s 3ms/step - loss: 0.2038\n",
            "Epoch 100/100\n",
            "543/543 [==============================] - 1s 3ms/step - loss: 0.2037\n"
          ]
        }
      ]
    },
    {
      "cell_type": "code",
      "source": [
        "y_pred= lstm.predict(X_test)"
      ],
      "metadata": {
        "id": "-t2XKZAqy-Uf"
      },
      "execution_count": null,
      "outputs": []
    },
    {
      "cell_type": "code",
      "source": [
        "plt.plot(y_test, label='True Value')\n",
        "plt.plot(y_pred, label='LSTM Value')\n",
        "plt.title('Prediction by LSTM')\n",
        "plt.xlabel('Time Scale')\n",
        "plt.ylabel('Scaled USD')\n",
        "plt.legend()\n",
        "plt.show()"
      ],
      "metadata": {
        "colab": {
          "base_uri": "https://localhost:8080/",
          "height": 295
        },
        "id": "IYYFx-ul5PF1",
        "outputId": "e497fc39-859d-4f33-bfcc-90ba0a09ebf2"
      },
      "execution_count": null,
      "outputs": [
        {
          "output_type": "display_data",
          "data": {
            "text/plain": [
              "<Figure size 432x288 with 1 Axes>"
            ],
            "image/png": "[encoded data removed]"
          },
          "metadata": {
            "needs_background": "light"
          }
        }
      ]
    }
  ]
}